{
 "cells": [
  {
   "cell_type": "code",
   "execution_count": 9,
   "metadata": {},
   "outputs": [],
   "source": [
    "import numpy as np\n",
    "import pandas as pd\n",
    "import matplotlib.pyplot as plt\n",
    "from mpl_toolkits.basemap import Basemap\n",
    "from mpl_toolkits.axes_grid1 import make_axes_locatable\n",
    "%matplotlib inline"
   ]
  },
  {
   "cell_type": "code",
   "execution_count": 10,
   "metadata": {},
   "outputs": [],
   "source": [
    "# Input and output directory\n",
    "input_dir = \"../02_data/processed_data/\"\n",
    "output_dir = \"../03_output_figs/\"\n",
    "\n",
    "# Loading the concentration mean differences\n",
    "dif_w1_sem = pd.read_csv(input_dir + \"dif_w1_sem.csv\")\n",
    "dif_w2_w1 = pd.read_csv(input_dir + \"dif_w2_w1.csv\")\n",
    "dif_w3_w1 = pd.read_csv(input_dir + \"dif_w3_w1.csv\")"
   ]
  },
  {
   "cell_type": "code",
   "execution_count": 11,
   "metadata": {},
   "outputs": [],
   "source": [
    "# Creating a function to plot map with concentration difference\n",
    "\n",
    "def plot_diff_rmsp_per(pol, title, bar_label, w4):\n",
    "    \"\"\" Map showing concentration differences in each \n",
    "     cetesb air quality station\n",
    "     \n",
    "    Parameters:\n",
    "    -----------\n",
    "    pol: str\n",
    "        polutant col name of dataframe w4\n",
    "    title: str\n",
    "        plot title \n",
    "    pol: str\n",
    "        color bar label\n",
    "    pol: str\n",
    "        data frame with concentration difference\n",
    "        \n",
    "    \n",
    "    Returns:\n",
    "    -----------\n",
    "    a map in svg format\n",
    "    \"\"\"\n",
    "    \n",
    "    path = output_dir\n",
    "    file_name = (path + pol + '_' + title.replace(\" \", \"_\").replace(\"_-_\", \"-\") + \".svg\")\n",
    "    \n",
    "    fig = plt.figure(figsize=(12, 18))\n",
    "    ax = fig.add_subplot(111)\n",
    "    ax.set_title(title, size=20)\n",
    "    m = Basemap(llcrnrlon=-47.10 - 0.15,\n",
    "                llcrnrlat=-24.05 - 0.15,\n",
    "                urcrnrlon=-45.70 + 0.15,\n",
    "                urcrnrlat=-23.15 + 0.15,\n",
    "                projection='merc', resolution='h')\n",
    "    m.drawcoastlines(linewidth=1.5)\n",
    "    m.drawcountries(linewidth=1.5)\n",
    "    m.drawstates(linewidth=1.25)\n",
    "    xm, ym = m(w4.lon.values, w4.lat.values)\n",
    "    m.readshapefile(\"../02_data/raw_data/masp_shp/masp_shp\", \"rmsp\", color=\"grey\", linewidth=1.5, zorder=1)\n",
    "    sc = m.scatter(xm, ym, c=w4[pol].values, cmap = \"coolwarm\", s=300,\n",
    "                   vmin=-100, vmax=100)\n",
    "    divider = make_axes_locatable(ax)\n",
    "    cax=divider.append_axes(\"right\", size=\"5%\", pad=0.05)\n",
    "    cbar = plt.colorbar(sc, cax=cax)\n",
    "    cbar.set_label(bar_label,labelpad=30, size=25)\n",
    "    cbar.ax.tick_params(labelsize=20)\n",
    "    plt.savefig(file_name, bbox_inches=\"tight\")\n",
    "    plt.clf()\n",
    "    "
   ]
  },
  {
   "cell_type": "code",
   "execution_count": 12,
   "metadata": {},
   "outputs": [],
   "source": [
    "# Making list of pol, title, bar_name to make loop for plots\n",
    "\n",
    "pol_names = [\"o3\", \"nox_mi\", \"pm10\", \"pm25\", \"co\"]\n",
    "bar_label = [\"$O_3 \\; (\\%)$\", \"$NO_X \\; (\\%)$\", \"$PM_{10} \\; (\\%)$\", \"$PM_{2.5} \\; (\\%)$\", \"$CO \\; (\\%)$\"]\n",
    "plot_titles = [\"1st week of quarantine - Normal week\",\n",
    "               \"2nd week of quarantine - 1st week of quarantine\",\n",
    "               \"3th week of quarantine - 1st week of quarantine\"]\n",
    "dif_list = [dif_w1_sem, dif_w2_w1, dif_w3_w1]"
   ]
  },
  {
   "cell_type": "code",
   "execution_count": 13,
   "metadata": {},
   "outputs": [
    {
     "name": "stderr",
     "output_type": "stream",
     "text": [
      "/home/quishqa/miniconda3/lib/python3.7/site-packages/ipykernel_launcher.py:34: MatplotlibDeprecationWarning: \n",
      "The dedent function was deprecated in Matplotlib 3.1 and will be removed in 3.3. Use inspect.cleandoc instead.\n",
      "/home/quishqa/miniconda3/lib/python3.7/site-packages/ipykernel_launcher.py:36: MatplotlibDeprecationWarning: \n",
      "The dedent function was deprecated in Matplotlib 3.1 and will be removed in 3.3. Use inspect.cleandoc instead.\n",
      "/home/quishqa/miniconda3/lib/python3.7/site-packages/ipykernel_launcher.py:37: MatplotlibDeprecationWarning: \n",
      "The dedent function was deprecated in Matplotlib 3.1 and will be removed in 3.3. Use inspect.cleandoc instead.\n",
      "/home/quishqa/miniconda3/lib/python3.7/site-packages/ipykernel_launcher.py:39: MatplotlibDeprecationWarning: \n",
      "The dedent function was deprecated in Matplotlib 3.1 and will be removed in 3.3. Use inspect.cleandoc instead.\n"
     ]
    },
    {
     "data": {
      "text/plain": [
       "<Figure size 864x1296 with 0 Axes>"
      ]
     },
     "metadata": {},
     "output_type": "display_data"
    },
    {
     "data": {
      "text/plain": [
       "<Figure size 864x1296 with 0 Axes>"
      ]
     },
     "metadata": {},
     "output_type": "display_data"
    },
    {
     "data": {
      "text/plain": [
       "<Figure size 864x1296 with 0 Axes>"
      ]
     },
     "metadata": {},
     "output_type": "display_data"
    },
    {
     "data": {
      "text/plain": [
       "<Figure size 864x1296 with 0 Axes>"
      ]
     },
     "metadata": {},
     "output_type": "display_data"
    },
    {
     "data": {
      "text/plain": [
       "<Figure size 864x1296 with 0 Axes>"
      ]
     },
     "metadata": {},
     "output_type": "display_data"
    },
    {
     "data": {
      "text/plain": [
       "<Figure size 864x1296 with 0 Axes>"
      ]
     },
     "metadata": {},
     "output_type": "display_data"
    },
    {
     "data": {
      "text/plain": [
       "<Figure size 864x1296 with 0 Axes>"
      ]
     },
     "metadata": {},
     "output_type": "display_data"
    },
    {
     "data": {
      "text/plain": [
       "<Figure size 864x1296 with 0 Axes>"
      ]
     },
     "metadata": {},
     "output_type": "display_data"
    },
    {
     "data": {
      "text/plain": [
       "<Figure size 864x1296 with 0 Axes>"
      ]
     },
     "metadata": {},
     "output_type": "display_data"
    },
    {
     "data": {
      "text/plain": [
       "<Figure size 864x1296 with 0 Axes>"
      ]
     },
     "metadata": {},
     "output_type": "display_data"
    },
    {
     "data": {
      "text/plain": [
       "<Figure size 864x1296 with 0 Axes>"
      ]
     },
     "metadata": {},
     "output_type": "display_data"
    },
    {
     "data": {
      "text/plain": [
       "<Figure size 864x1296 with 0 Axes>"
      ]
     },
     "metadata": {},
     "output_type": "display_data"
    },
    {
     "data": {
      "text/plain": [
       "<Figure size 864x1296 with 0 Axes>"
      ]
     },
     "metadata": {},
     "output_type": "display_data"
    },
    {
     "data": {
      "text/plain": [
       "<Figure size 864x1296 with 0 Axes>"
      ]
     },
     "metadata": {},
     "output_type": "display_data"
    },
    {
     "data": {
      "text/plain": [
       "<Figure size 864x1296 with 0 Axes>"
      ]
     },
     "metadata": {},
     "output_type": "display_data"
    }
   ],
   "source": [
    "for i in range(len(dif_list)):\n",
    "    for j in range(len(pol_names)):\n",
    "        plot_diff_rmsp_per(pol_names[j],\n",
    "                           plot_titles[i],\n",
    "                           bar_label[j],\n",
    "                           dif_list[i])"
   ]
  },
  {
   "cell_type": "code",
   "execution_count": null,
   "metadata": {},
   "outputs": [],
   "source": []
  }
 ],
 "metadata": {
  "kernelspec": {
   "display_name": "Python 3",
   "language": "python",
   "name": "python3"
  },
  "language_info": {
   "codemirror_mode": {
    "name": "ipython",
    "version": 3
   },
   "file_extension": ".py",
   "mimetype": "text/x-python",
   "name": "python",
   "nbconvert_exporter": "python",
   "pygments_lexer": "ipython3",
   "version": "3.7.7"
  }
 },
 "nbformat": 4,
 "nbformat_minor": 4
}
